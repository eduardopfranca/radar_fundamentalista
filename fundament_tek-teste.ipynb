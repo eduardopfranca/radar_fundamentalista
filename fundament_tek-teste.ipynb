{
 "cells": [
  {
   "cell_type": "code",
   "execution_count": 1,
   "metadata": {},
   "outputs": [],
   "source": [
    "from dados_de_mercado import Dados_de_mercado\n",
    "import pandas as pd\n",
    "from datetime import datetime, timedelta\n",
    "import time\n",
    "import os\n",
    "import matplotlib.pyplot as plt\n",
    "\n",
    "from fintz import Fintz"
   ]
  },
  {
   "cell_type": "code",
   "execution_count": 2,
   "metadata": {},
   "outputs": [],
   "source": [
    "os.chdir(\"C:\\\\Users\\\\eduar\\\\dev\\\\github\\\\dados_fundamentalistas_fintz\\\\atualizado1q24\")"
   ]
  },
  {
   "cell_type": "code",
   "execution_count": 3,
   "metadata": {},
   "outputs": [],
   "source": [
    "precos = pd.read_parquet('historico_acoes.parquet')\n",
    "ebit = pd.read_parquet('EBIT.parquet')\n",
    "receita_liquida = pd.read_parquet('ReceitaLiquida.parquet')\n",
    "custos = pd.read_parquet('Custos.parquet')\n",
    "lucro_liquido = pd.read_parquet('LucroLiquido.parquet')\n",
    "ativo_circulante = pd.read_parquet('AtivoCirculante.parquet')\n",
    "ativo_nao_circulante = pd.read_parquet('AtivoNaoCirculante.parquet')\n",
    "ativo_total = pd.read_parquet('AtivoTotal.parquet')\n",
    "caixa = pd.read_parquet('CaixaEquivalentes.parquet')\n",
    "divida_bruta = pd.read_parquet('DividaBruta.parquet')\n",
    "divida_liquida = pd.read_parquet('DividaLiquida.parquet')\n",
    "ebitda = pd.read_parquet('EBITDA.parquet')\n",
    "passivo_circulante = pd.read_parquet('PassivoCirculante.parquet')\n",
    "passivo_nao_circulante = pd.read_parquet('PassivoNaoCirculante.parquet')\n",
    "passivo_total = pd.read_parquet('PassivoTotal.parquet')\n",
    "patrimonio_liquido = pd.read_parquet('PatrimonioLiquido.parquet')\n",
    "roe = pd.read_parquet('ROE.parquet')\n",
    "p_l = pd.read_parquet('P_L.parquet')\n",
    "p_vp = pd.read_parquet('P_VP.parquet')\n",
    "dy = pd.read_parquet('DividendYield.parquet')\n",
    "roic = pd.read_parquet('ROIC.parquet')\n",
    "vpa = pd.read_parquet('VPA.parquet')\n",
    "lpa = pd.read_parquet('LPA.parquet')\n",
    "divida_bruta_patrimonio_liquido = pd.read_parquet('DividaBruta_PatrimonioLiquido.parquet')\n",
    "divida_liquida_patrimonio_liquido = pd.read_parquet('DividaLiquida_PatrimonioLiquido.parquet')\n",
    "divida_liquida_ebit = pd.read_parquet('DividaLiquida_EBIT.parquet')\n",
    "divida_liquida_ebitda = pd.read_parquet('DividaLiquida_EBITDA.parquet')\n",
    "valor_de_mercado = pd.read_parquet('ValorDeMercado.parquet')\n",
    "ev = pd.read_parquet('EV.parquet')"
   ]
  },
  {
   "cell_type": "code",
   "execution_count": 4,
   "metadata": {},
   "outputs": [],
   "source": [
    "os.chdir(\"C:\\\\Users\\\\eduar\\\\dev\\\\github\\\\radar_fundamentalista\")"
   ]
  },
  {
   "cell_type": "code",
   "execution_count": 5,
   "metadata": {},
   "outputs": [],
   "source": [
    "tickers = ['RRRP3', 'ABEV3','AZUL4','B3SA3','BBSE3','BBDC3','BBDC4','BBAS3','BRKM5','BRFS3','BPAC11','CMIG4','CIEL3','COGN3',\n",
    " 'CPLE6','CSAN3','CMIN3','CVCB3','CYRE3','ELET3','EMBR3','EQTL3','GGBR4','GOAU4','NTCO3','HAPV3','IRBR3','ITSA4','ITUB4','JBSS3',\n",
    " 'KLBN11','RENT3','LREN3','LWSA3','MGLU3','MRFG3','BEEF3','MRVE3','PCAR3','PETR4','PRIO3','PETZ3','SBSP3','SANB11','CSNA3','SLCE3',\n",
    " 'SUZB3','TAEE11','VIVT3','TIMS3','UGPA3','USIM5','VALE3','WEGE3','YDUQ3']"
   ]
  },
  {
   "cell_type": "code",
   "execution_count": 6,
   "metadata": {},
   "outputs": [],
   "source": [
    "# Tickers que estão no radar e não estão entre as principais ações da bolsa:\n",
    "tickers_radar = ['CMIG3','TAEE3','TAEE4','CPLE3','CSMG3','SAPR11','SAPR3','SAPR4','BRSR3','BRSR5','BRSR6','ITSA3','SANB3','SANB4','ITUB3',\n",
    "'PSSA3','WIZC3','ENAT3']"
   ]
  },
  {
   "cell_type": "code",
   "execution_count": 7,
   "metadata": {},
   "outputs": [],
   "source": [
    "for ticker in tickers_radar:\n",
    "    tickers.append(ticker)"
   ]
  },
  {
   "cell_type": "code",
   "execution_count": 118,
   "metadata": {},
   "outputs": [],
   "source": [
    "ticker = 'VALE3'"
   ]
  },
  {
   "cell_type": "code",
   "execution_count": 119,
   "metadata": {},
   "outputs": [
    {
     "data": {
      "text/plain": [
       "[14, 15, 16, 17, 18, 19, 20, 21, 22, 23, 24]"
      ]
     },
     "execution_count": 119,
     "metadata": {},
     "output_type": "execute_result"
    }
   ],
   "source": [
    "anos = list(range(14,25,1))\n",
    "anos"
   ]
  },
  {
   "cell_type": "code",
   "execution_count": 120,
   "metadata": {},
   "outputs": [],
   "source": [
    "# evolucao de caixa\n",
    "dados_caixa = caixa[caixa['ticker']==ticker]"
   ]
  },
  {
   "cell_type": "code",
   "execution_count": 121,
   "metadata": {},
   "outputs": [
    {
     "name": "stdout",
     "output_type": "stream",
     "text": [
      "2024: 19864000000.0, anterior: 19864000000.0, ano:28015000000.0, score: 0\n",
      "2024: 19864000000.0, anterior: 28015000000.0, ano:59057151000.0, score: -1\n",
      "2024: 19864000000.0, anterior: 59057151000.0, ano:49889394000.0, score: -1.5\n",
      "2024: 19864000000.0, anterior: 49889394000.0, ano:35644435000.0, score: -1.0\n",
      "2024: 19864000000.0, anterior: 35644435000.0, ano:24424373000.0, score: -0.5\n",
      "-0.1\n"
     ]
    }
   ],
   "source": [
    "dados_caixa_list = []\n",
    "for ano in anos:\n",
    "    dado = dados_caixa[dados_caixa['data']==f'20{ano}-01-01']['valor'].values[0]\n",
    "    dados_caixa_list.append(dado)\n",
    "\n",
    "ultimo_caixa = dados_caixa_list[-1]\n",
    "caixa_anterior = ultimo_caixa\n",
    "score = 0\n",
    "for i in range(1,6):\n",
    "    caixa_ano = dados_caixa_list[-(i+1)]\n",
    "\n",
    "    if ultimo_caixa > caixa_ano:\n",
    "        score += 0.5\n",
    "\n",
    "    if caixa_anterior > caixa_ano:\n",
    "        score += 0.5\n",
    "\n",
    "    if ultimo_caixa < caixa_ano*0.5 or caixa_anterior < caixa_ano*0.67:\n",
    "        score -= 1\n",
    "\n",
    "    print(f'2024: {ultimo_caixa}, anterior: {caixa_anterior}, ano:{caixa_ano}, score: {score}')\n",
    "    caixa_anterior = caixa_ano\n",
    "\n",
    "score /= 5\n",
    "print(score)"
   ]
  },
  {
   "cell_type": "code",
   "execution_count": 122,
   "metadata": {},
   "outputs": [],
   "source": [
    "# evolução divida longo prazo\n",
    "dados_divida_longa = passivo_nao_circulante[passivo_nao_circulante['ticker']==ticker]"
   ]
  },
  {
   "cell_type": "code",
   "execution_count": 123,
   "metadata": {},
   "outputs": [
    {
     "name": "stdout",
     "output_type": "stream",
     "text": [
      "2024: 179632000000.0, anterior: 179632000000.0, ano:178094000000.0, score: 0\n",
      "2024: 179632000000.0, anterior: 178094000000.0, ano:199664424000.0, score: 1.0\n",
      "2024: 179632000000.0, anterior: 199664424000.0, ano:203518099000.0, score: 2.0\n",
      "2024: 179632000000.0, anterior: 203518099000.0, ano:157385547000.0, score: 2.0\n",
      "2024: 179632000000.0, anterior: 157385547000.0, ano:138866793000.0, score: 2.0\n",
      "0.4\n"
     ]
    }
   ],
   "source": [
    "dados_divida_longa_list = []\n",
    "for ano in anos:\n",
    "    dado = dados_divida_longa[dados_divida_longa['data']==f'20{ano}-01-01']['valor'].values[0]\n",
    "    dados_divida_longa_list.append(dado)\n",
    "\n",
    "ultima_divida = dados_divida_longa_list[-1]\n",
    "ultima_divida = round(ultima_divida,2)\n",
    "divida_anterior = ultima_divida\n",
    "score = 0\n",
    "for i in range(1,6):\n",
    "    divida_ano = dados_divida_longa_list[-(i+1)]\n",
    "    divida_ano = round(divida_ano,2)\n",
    "\n",
    "    if ultima_divida < divida_ano:\n",
    "        score += 0.5\n",
    "\n",
    "    if divida_anterior < divida_ano:\n",
    "        score += 0.5\n",
    "\n",
    "    if ultima_divida > divida_ano*2 or divida_anterior > divida_ano*2:\n",
    "        score -= 1\n",
    "\n",
    "    print(f'2024: {ultima_divida}, anterior: {divida_anterior}, ano:{divida_ano}, score: {score}')\n",
    "    divida_anterior = divida_ano\n",
    "\n",
    "score /= 5\n",
    "print(score)\n",
    "\n",
    "score /= 5"
   ]
  },
  {
   "cell_type": "code",
   "execution_count": 124,
   "metadata": {},
   "outputs": [],
   "source": [
    "# Dados número de ações:\n",
    "dados_patrimonio_liquido = patrimonio_liquido[patrimonio_liquido['ticker']==ticker]"
   ]
  },
  {
   "cell_type": "code",
   "execution_count": 125,
   "metadata": {},
   "outputs": [],
   "source": [
    "dados_vpa = vpa[vpa['ticker']==ticker]"
   ]
  },
  {
   "cell_type": "code",
   "execution_count": 138,
   "metadata": {},
   "outputs": [
    {
     "name": "stdout",
     "output_type": "stream",
     "text": [
      "2024: 4540.0, 2023: 4780.0, score: 1\n",
      "2023: 4780.0, 2022: 5130.0, score: 2\n",
      "2022: 5130.0, 2021: 5280.0, score: 3\n",
      "2021: 5280.0, 2020: 5280.0, score: 3\n",
      "2020: 5280.0, 2019: 5280.0, score: 3\n",
      "0.6\n"
     ]
    }
   ],
   "source": [
    "numero_acoes_list = []\n",
    "for ano in anos:\n",
    "    dado_pl = dados_patrimonio_liquido[dados_patrimonio_liquido['data']==f'20{ano}-01-01']['valor'].values[0]\n",
    "    dado_vpa = dados_vpa[dados_vpa['data']==f'20{ano}-01-01']['valor'].values[0]\n",
    "    num_acoes = dado_pl/dado_vpa\n",
    "    num_acoes = num_acoes/1000000\n",
    "    num_acoes = round(num_acoes,-1)\n",
    "    numero_acoes_list.append(num_acoes)\n",
    "\n",
    "ultimo_num = numero_acoes_list[-1]\n",
    "score = 0\n",
    "ano = 2024\n",
    "for i in range(1,6):\n",
    "    num_ano = numero_acoes_list[-(i+1)]\n",
    "    if ultimo_num < num_ano*0.99:\n",
    "        score += 1\n",
    "    elif ultimo_num > num_ano*1.01:\n",
    "        score -= 1\n",
    "\n",
    "    print(f'{ano}: {ultimo_num}, {ano-1}: {num_ano}, score: {score}')\n",
    "    ultimo_num = num_ano\n",
    "    ano -= 1\n",
    "\n",
    "score /= 5\n",
    "print(score)"
   ]
  },
  {
   "cell_type": "code",
   "execution_count": 127,
   "metadata": {},
   "outputs": [],
   "source": [
    "# Dados dívida bruta/patrimonio liqdo\n",
    "dados_divida_pl = divida_bruta_patrimonio_liquido[divida_bruta_patrimonio_liquido['ticker']==ticker]"
   ]
  },
  {
   "cell_type": "code",
   "execution_count": 128,
   "metadata": {},
   "outputs": [
    {
     "name": "stdout",
     "output_type": "stream",
     "text": [
      "2024: 0.36, anterior: 0.36, ano:0.35, score: 0\n",
      "2024: 0.36, anterior: 0.35, ano:0.4, score: 1.0\n",
      "2024: 0.36, anterior: 0.4, ano:0.45, score: 2.0\n",
      "2024: 0.36, anterior: 0.45, ano:0.39, score: 2.5\n",
      "2024: 0.36, anterior: 0.39, ano:0.4, score: 3.5\n",
      "0.7\n"
     ]
    }
   ],
   "source": [
    "dados_divida_pl_list = []\n",
    "for ano in anos:\n",
    "    dado = dados_divida_pl[dados_divida_pl['data']==f'20{ano}-01-01']['valor'].values[0]\n",
    "    dados_divida_pl_list.append(dado)\n",
    "\n",
    "ultima_divida = dados_divida_pl_list[-1]\n",
    "ultima_divida = round(ultima_divida,2)\n",
    "divida_anterior = ultima_divida\n",
    "score = 0\n",
    "for i in range(1,6):\n",
    "    divida_ano = dados_divida_pl_list[-(i+1)]\n",
    "    divida_ano = round(divida_ano,2)\n",
    "\n",
    "    if ultima_divida < divida_ano:\n",
    "        score += 0.5\n",
    "\n",
    "    if divida_anterior < divida_ano:\n",
    "        score += 0.5\n",
    "\n",
    "    if ultima_divida > divida_ano*2 or divida_anterior > divida_ano*2:\n",
    "        score -= 1\n",
    "\n",
    "    print(f'2024: {ultima_divida}, anterior: {divida_anterior}, ano:{divida_ano}, score: {score}')\n",
    "    divida_anterior = divida_ano\n",
    "\n",
    "score /= 5\n",
    "print(score)"
   ]
  },
  {
   "cell_type": "code",
   "execution_count": 129,
   "metadata": {},
   "outputs": [],
   "source": [
    "# Dados Lucro liquido e custos\n",
    "dados_lucro_liquido = lucro_liquido[lucro_liquido['ticker']==ticker]\n",
    "dados_custos = custos[custos['ticker']==ticker]"
   ]
  },
  {
   "cell_type": "code",
   "execution_count": 130,
   "metadata": {},
   "outputs": [
    {
     "name": "stdout",
     "output_type": "stream",
     "text": [
      "2024: 13966000000.0, anterior: 13966000000.0, ano:23228000000.0, score: -1\n",
      "2024: 13966000000.0, anterior: 23228000000.0, ano:20574181000.0, score: -0.5\n",
      "2024: 13966000000.0, anterior: 20574181000.0, ano:15072230000.0, score: 0.0\n",
      "2024: 13966000000.0, anterior: 15072230000.0, ano:6461278000.0, score: 1.0\n",
      "2024: 13966000000.0, anterior: 6461278000.0, ano:5607654000.0, score: 2.0\n",
      "0.4\n"
     ]
    }
   ],
   "source": [
    "dados_lucro_list = []\n",
    "\n",
    "for ano in anos:\n",
    "    dado = dados_lucro_liquido[dados_lucro_liquido['data']==f'20{ano}-01-01']['valor'].values[0]\n",
    "    dados_lucro_list.append(dado)\n",
    "\n",
    "ultimo_lucro = dados_lucro_list[-1]\n",
    "lucro_anterior = ultimo_lucro\n",
    "score = 0\n",
    "for i in range(1,6):\n",
    "    lucro_ano = dados_lucro_list[-(i+1)]\n",
    "\n",
    "    if ultimo_lucro > lucro_ano:\n",
    "        score += 0.5\n",
    "\n",
    "    if lucro_anterior > lucro_ano:\n",
    "        score += 0.5\n",
    "\n",
    "    if ultimo_lucro < lucro_ano*0.67 or lucro_anterior < lucro_ano*0.67:\n",
    "        score -= 1\n",
    "\n",
    "    print(f'2024: {ultimo_lucro}, anterior: {lucro_anterior}, ano:{lucro_ano}, score: {score}')\n",
    "    lucro_anterior = lucro_ano\n",
    "\n",
    "score /= 5\n",
    "print(score)"
   ]
  },
  {
   "cell_type": "code",
   "execution_count": 131,
   "metadata": {},
   "outputs": [
    {
     "name": "stdout",
     "output_type": "stream",
     "text": [
      "2024: -30851000000.0, anterior: 1, ano:-33043000000.0, score: 1.0\n",
      "2024: -30851000000.0, anterior: -33043000000.0, ano:-30533593000.0, score: 1.0\n",
      "2024: -30851000000.0, anterior: -30533593000.0, ano:-25893133000.0, score: 1.0\n",
      "2024: -30851000000.0, anterior: -25893133000.0, ano:-22627536000.0, score: 1.0\n",
      "2024: -30851000000.0, anterior: -22627536000.0, ano:-22827339000.0, score: 1.5\n",
      "0.3\n"
     ]
    }
   ],
   "source": [
    "dados_custos_list = []\n",
    "\n",
    "for ano in anos:\n",
    "    dado = dados_custos[dados_custos['data']==f'20{ano}-01-01']['valor'].values[0]\n",
    "    dados_custos_list.append(dado)\n",
    "\n",
    "ultimo_custo = dados_custos_list[-1]\n",
    "custo_anterior = 1\n",
    "score = 0\n",
    "for i in range(1,6):\n",
    "    custo_ano = dados_custos_list[-(i+1)]\n",
    "\n",
    "    if ultimo_custo > custo_ano:\n",
    "        score += 0.5\n",
    "\n",
    "    if custo_anterior > custo_ano:\n",
    "        score += 0.5\n",
    "\n",
    "    if ultimo_custo < custo_ano*1.5 or custo_anterior < custo_ano*1.5:\n",
    "        score -= 1\n",
    "\n",
    "    print(f'2024: {ultimo_custo}, anterior: {custo_anterior}, ano:{custo_ano}, score: {score}')\n",
    "    custo_anterior = custo_ano\n",
    "\n",
    "score /= 5\n",
    "print(score)"
   ]
  },
  {
   "cell_type": "code",
   "execution_count": 132,
   "metadata": {},
   "outputs": [],
   "source": [
    "# Dados dividendo\n",
    "dados_preco = precos[precos['ticker']==ticker]\n",
    "dados_dy = dy[dy['ticker']==ticker]\n",
    "dados_lpa = lpa[lpa['ticker']==ticker]"
   ]
  },
  {
   "cell_type": "code",
   "execution_count": 133,
   "metadata": {},
   "outputs": [
    {
     "name": "stdout",
     "output_type": "stream",
     "text": [
      "2024: 6.121164032892927, anterior: 99999990, ano:7.52225207682953, payout: 0.33680943404622643, score: 0.16840471702311322\n",
      "2024: 6.121164032892927, anterior: 7.52225207682953, ano:14.836358734294873, payout: 0.7957922243279929, score: -0.6617770599808435\n",
      "2024: 6.121164032892927, anterior: 14.836358734294873, ano:2.3519689791384213, payout: 0.8028544908670768, score: 0.2715438063086458\n",
      "2024: 6.121164032892927, anterior: 2.3519689791384213, ano:1.405252873893245, payout: 0.5221944727844097, score: 0.6639931475576247\n",
      "2024: 6.121164032892927, anterior: 1.405252873893245, ano:1.9272529699177916, payout: 0.7431772882934994, score: 0.8650532709940907\n",
      "0.173\n"
     ]
    }
   ],
   "source": [
    "dividendos_list = []\n",
    "payout_list = []\n",
    "for ano in anos:\n",
    "\n",
    "    data_inicio_ano = pd.to_datetime(f'20{ano}-01-01')\n",
    "    primeira_data_apos_inicio_ano = dados_preco.loc[dados_preco['data'] > data_inicio_ano, 'data'].min()\n",
    "    dado_preco = dados_preco.loc[dados_preco['data'] == primeira_data_apos_inicio_ano, 'preco_abertura'].values[0]\n",
    "    dado_dy = dados_dy.loc[dados_dy['data'] == primeira_data_apos_inicio_ano, 'valor'].values[0]\n",
    "    dado_lpa = dados_lpa.loc[dados_lpa['data'] == primeira_data_apos_inicio_ano, 'valor'].values[0]\n",
    "\n",
    "    dividendos = dado_preco*dado_dy\n",
    "    dividendos_list.append(dividendos)\n",
    "\n",
    "    payout = dividendos/dado_lpa\n",
    "    payout_list.append(payout)\n",
    "    \n",
    "ultimo_div = dividendos_list[-1]\n",
    "div_anterior = 99999990\n",
    "score = 0\n",
    "for i in range(1,6):\n",
    "    div_ano = dividendos_list[-(i+1)]\n",
    "    payout_ano = payout_list[-(i+1)]\n",
    "\n",
    "    if ultimo_div > div_ano:\n",
    "        score += 0.5\n",
    "\n",
    "    if div_anterior > div_ano:\n",
    "        score += 0.5\n",
    "\n",
    "    if ultimo_div < div_ano*0.5 or div_anterior < div_ano*0.5:\n",
    "        score -= 1\n",
    "\n",
    "    # if payout_ano > 0.8:\n",
    "    #     score += 0.5\n",
    "    # elif payout_ano > 0.6:\n",
    "    #     score += 0.3\n",
    "    # elif payout_ano > 0.4:\n",
    "    #     score += 0.1\n",
    "\n",
    "    if payout_ano > 0:\n",
    "        score *= payout_ano\n",
    "    else:\n",
    "        score *= 0.1\n",
    "\n",
    "    print(f'2024: {ultimo_div}, anterior: {div_anterior}, ano:{div_ano}, payout: {payout_ano}, score: {score}')\n",
    "    div_anterior = div_ano\n",
    "\n",
    "score /= 5\n",
    "score = round(score,4)\n",
    "print(score)"
   ]
  },
  {
   "cell_type": "code",
   "execution_count": 134,
   "metadata": {},
   "outputs": [],
   "source": [
    "# Divida liqu / pl\n",
    "dados_div_liq_pl = divida_liquida_patrimonio_liquido[divida_liquida_patrimonio_liquido['ticker']==ticker]"
   ]
  },
  {
   "cell_type": "code",
   "execution_count": 135,
   "metadata": {},
   "outputs": [
    {
     "name": "stdout",
     "output_type": "stream",
     "text": [
      "2024: 0.25, anterior: 100, ano:0.2, score: -1\n",
      "2024: 0.25, anterior: 0.2, ano:0.08, score: -2\n",
      "2024: 0.25, anterior: 0.08, ano:0.19, score: -1.5\n",
      "2024: 0.25, anterior: 0.19, ano:0.19, score: -1.5\n",
      "2024: 0.25, anterior: 0.19, ano:0.26, score: -0.5\n",
      "-0.1\n"
     ]
    }
   ],
   "source": [
    "dados_divida_liq_pl_list = []\n",
    "for ano in anos:\n",
    "    dado = dados_div_liq_pl[dados_div_liq_pl['data']==f'20{ano}-01-01']['valor'].values[0]\n",
    "    dados_divida_liq_pl_list.append(dado)\n",
    "\n",
    "ultima_divida = dados_divida_liq_pl_list[-1]\n",
    "ultima_divida = round(ultima_divida,2)\n",
    "divida_anterior = 100\n",
    "score = 0\n",
    "for i in range(1,6):\n",
    "    divida_ano = dados_divida_liq_pl_list[-(i+1)]\n",
    "    divida_ano = round(divida_ano,2)\n",
    "\n",
    "    if ultima_divida < divida_ano:\n",
    "        score += 0.5\n",
    "\n",
    "    if divida_anterior < divida_ano:\n",
    "        score += 0.5\n",
    "\n",
    "    if ultima_divida > divida_ano*2 or divida_anterior > divida_ano*2:\n",
    "        score -= 1\n",
    "\n",
    "    print(f'2024: {ultima_divida}, anterior: {divida_anterior}, ano:{divida_ano}, score: {score}')\n",
    "    divida_anterior = divida_ano\n",
    "\n",
    "score /= 5\n",
    "print(score)"
   ]
  },
  {
   "cell_type": "code",
   "execution_count": 136,
   "metadata": {},
   "outputs": [],
   "source": [
    "# Divida liqu / ebitda\n",
    "dados_div_ebitda = divida_liquida_ebitda[divida_liquida_ebitda['ticker']==ticker]"
   ]
  },
  {
   "cell_type": "code",
   "execution_count": 137,
   "metadata": {},
   "outputs": [
    {
     "name": "stdout",
     "output_type": "stream",
     "text": [
      "2024: 0.63, anterior: 100, ano:0.35, score: -1\n",
      "2024: 0.63, anterior: 0.35, ano:0.11, score: -2\n",
      "2024: 0.63, anterior: 0.11, ano:0.66, score: -1.0\n",
      "2024: 0.63, anterior: 0.66, ano:0.86, score: 0.0\n",
      "2024: 0.63, anterior: 0.86, ano:0.83, score: 0.5\n",
      "0.1\n"
     ]
    }
   ],
   "source": [
    "dados_div_ebitda_list = []\n",
    "for ano in anos:\n",
    "    dado = dados_div_ebitda[dados_div_ebitda['data']==f'20{ano}-01-01']['valor'].values[0]\n",
    "    dados_div_ebitda_list.append(dado)\n",
    "\n",
    "ultima_divida = dados_div_ebitda_list[-1]\n",
    "ultima_divida = round(ultima_divida,2)\n",
    "divida_anterior = 100\n",
    "score = 0\n",
    "for i in range(1,6):\n",
    "    divida_ano = dados_div_ebitda_list[-(i+1)]\n",
    "    divida_ano = round(divida_ano,2)\n",
    "\n",
    "    if ultima_divida < divida_ano:\n",
    "        score += 0.5\n",
    "\n",
    "    if divida_anterior < divida_ano:\n",
    "        score += 0.5\n",
    "\n",
    "    if ultima_divida > divida_ano*2 or divida_anterior > divida_ano*2:\n",
    "        score -= 1\n",
    "\n",
    "    print(f'2024: {ultima_divida}, anterior: {divida_anterior}, ano:{divida_ano}, score: {score}')\n",
    "    divida_anterior = divida_ano\n",
    "\n",
    "score /= 5\n",
    "print(score)"
   ]
  }
 ],
 "metadata": {
  "kernelspec": {
   "display_name": "Python 3",
   "language": "python",
   "name": "python3"
  },
  "language_info": {
   "codemirror_mode": {
    "name": "ipython",
    "version": 3
   },
   "file_extension": ".py",
   "mimetype": "text/x-python",
   "name": "python",
   "nbconvert_exporter": "python",
   "pygments_lexer": "ipython3",
   "version": "3.11.2"
  }
 },
 "nbformat": 4,
 "nbformat_minor": 2
}
