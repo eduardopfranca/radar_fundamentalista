{
 "cells": [
  {
   "cell_type": "code",
   "execution_count": 1,
   "metadata": {},
   "outputs": [],
   "source": [
    "import pandas as pd\n",
    "from datetime import datetime, timedelta\n",
    "import time\n",
    "import numpy as np"
   ]
  },
  {
   "cell_type": "code",
   "execution_count": 11,
   "metadata": {},
   "outputs": [],
   "source": [
    "empresas = pd.read_csv('empresas.csv')\n",
    "infos = pd.read_csv('infos_empresas.csv')\n",
    "cotacoes = pd.read_csv('cotacoes.csv')\n",
    "\n",
    "empresas = empresas.drop(empresas.columns[0], axis=1)\n",
    "infos = infos.drop(infos.columns[0], axis=1)\n",
    "cotacoes = cotacoes.drop(cotacoes.columns[0], axis=1)"
   ]
  }
 ],
 "metadata": {
  "kernelspec": {
   "display_name": "Python 3",
   "language": "python",
   "name": "python3"
  },
  "language_info": {
   "codemirror_mode": {
    "name": "ipython",
    "version": 3
   },
   "file_extension": ".py",
   "mimetype": "text/x-python",
   "name": "python",
   "nbconvert_exporter": "python",
   "pygments_lexer": "ipython3",
   "version": "3.11.2"
  }
 },
 "nbformat": 4,
 "nbformat_minor": 2
}
